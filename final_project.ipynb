{
 "cells": [
  {
   "cell_type": "code",
   "execution_count": null,
   "metadata": {},
   "outputs": [],
   "source": [
    "import pandas as pd\n",
    "import numpy as py\n",
    "import matplotlib as mpl\n",
    "df = pd.read_excel(r'airline.xlsx')\n",
    "\n",
    "print(df)"
   ]
  },
  {
   "cell_type": "code",
   "execution_count": 7,
   "metadata": {},
   "outputs": [
    {
     "name": "stdout",
     "output_type": "stream",
     "text": [
      "         date                          airline  souls_aboard  fatalities  \\\n",
      "9  2016-08-05                         emirates           300           0   \n",
      "19 2018-07-10                        rovos air            19           1   \n",
      "20 2018-08-04                           ju air            20          20   \n",
      "28 2019-11-24                   busy bee congo            19          19   \n",
      "32 2020-05-22  pakistan international airlines            99          97   \n",
      "\n",
      "    ground_fatalities  \n",
      "9                   1  \n",
      "19                  1  \n",
      "20                  1  \n",
      "28                  7  \n",
      "32                  1  \n"
     ]
    }
   ],
   "source": [
    "df = df.drop (df[df.ground_fatalities < 1 ].index)\n",
    "\n",
    "print(df)"
   ]
  }
 ],
 "metadata": {
  "kernelspec": {
   "display_name": "Python 3.10.8 64-bit (microsoft store)",
   "language": "python",
   "name": "python3"
  },
  "language_info": {
   "codemirror_mode": {
    "name": "ipython",
    "version": 3
   },
   "file_extension": ".py",
   "mimetype": "text/x-python",
   "name": "python",
   "nbconvert_exporter": "python",
   "pygments_lexer": "ipython3",
   "version": "3.10.8"
  },
  "orig_nbformat": 4,
  "vscode": {
   "interpreter": {
    "hash": "720b97c0b936e41686638dd7ae842e840c73f1edf12da0066b8915b0561a8c57"
   }
  }
 },
 "nbformat": 4,
 "nbformat_minor": 2
}
