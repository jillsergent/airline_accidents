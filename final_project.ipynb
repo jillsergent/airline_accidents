{
 "cells": [
  {
   "cell_type": "code",
   "execution_count": 8,
   "metadata": {},
   "outputs": [
    {
     "name": "stdout",
     "output_type": "stream",
     "text": [
      "         date                          airline  souls_aboard  fatalities  \\\n",
      "0  2015-02-04                        transasia            58          43   \n",
      "1  2015-03-24                      germanwings           150         150   \n",
      "2  2015-08-16                      trigana air            54          54   \n",
      "3  2015-10-31                         metrojet           224         224   \n",
      "4  2016-02-02                  daallo airlines            72           1   \n",
      "5  2016-02-24                         tara air            23          23   \n",
      "6  2016-02-26                 air kasthamandap            11           2   \n",
      "7  2016-03-19                         flydubai            62          62   \n",
      "8  2016-05-19                         egyptair            66          66   \n",
      "9  2016-08-05                         emirates           300           0   \n",
      "10 2016-12-07  pakistan international airlines            48          48   \n",
      "11 2017-12-13               west wind aviation            25           1   \n",
      "12 2017-12-31                       nature air            12          12   \n",
      "13 2018-02-11                 saratov airlines            71          71   \n",
      "14 2018-02-18             iran aseman airlines            66          66   \n",
      "15 2018-03-12               us bangla airlines            71          51   \n",
      "16 2018-04-17               southwest airlines           149           1   \n",
      "17 2018-05-18                           cubana           113         112   \n",
      "18 2018-06-05                          fly sax            10          10   \n",
      "19 2018-07-10                        rovos air            19           1   \n",
      "20 2018-08-04                           ju air            20          20   \n",
      "21 2018-09-28                      air nuigini            47           1   \n",
      "22 2018-10-29                         lion air           189         189   \n",
      "23 2018-11-06              fly jamaica airways           128           1   \n",
      "24 2019-01-14                         saha air            16          15   \n",
      "25 2019-03-09             laser aereo colombia            14          14   \n",
      "26 2019-03-10               ethiopian airlines           157         157   \n",
      "27 2019-05-05                         aeroflot            78          41   \n",
      "28 2019-11-24                   busy bee congo            19          19   \n",
      "29 2019-12-27                          bek air            98          12   \n",
      "30 2020-01-08   ukraine international airlines           176         176   \n",
      "31 2020-02-05                 pegasus airlines           177           3   \n",
      "32 2020-05-22  pakistan international airlines            99          97   \n",
      "33 2020-08-07                air india express           190          20   \n",
      "\n",
      "    ground_fatalities  \n",
      "0                   0  \n",
      "1                   0  \n",
      "2                   0  \n",
      "3                   0  \n",
      "4                   0  \n",
      "5                   0  \n",
      "6                   0  \n",
      "7                   0  \n",
      "8                   0  \n",
      "9                   1  \n",
      "10                  0  \n",
      "11                  0  \n",
      "12                  0  \n",
      "13                  0  \n",
      "14                  0  \n",
      "15                  0  \n",
      "16                  0  \n",
      "17                  0  \n",
      "18                  0  \n",
      "19                  1  \n",
      "20                  1  \n",
      "21                  0  \n",
      "22                  0  \n",
      "23                  0  \n",
      "24                  0  \n",
      "25                  0  \n",
      "26                  0  \n",
      "27                  0  \n",
      "28                  7  \n",
      "29                  0  \n",
      "30                  0  \n",
      "31                  0  \n",
      "32                  1  \n",
      "33                  0  \n"
     ]
    }
   ],
   "source": [
    "import pandas as pd\n",
    "import numpy as py\n",
    "import matplotlib as mpl\n",
    "df = pd.read_excel(r'airline.xlsx')\n",
    "\n",
    "print(df)"
   ]
  },
  {
   "cell_type": "code",
   "execution_count": 7,
   "metadata": {},
   "outputs": [
    {
     "name": "stdout",
     "output_type": "stream",
     "text": [
      "         date                          airline  souls_aboard  fatalities  \\\n",
      "9  2016-08-05                         emirates           300           0   \n",
      "19 2018-07-10                        rovos air            19           1   \n",
      "20 2018-08-04                           ju air            20          20   \n",
      "28 2019-11-24                   busy bee congo            19          19   \n",
      "32 2020-05-22  pakistan international airlines            99          97   \n",
      "\n",
      "    ground_fatalities  \n",
      "9                   1  \n",
      "19                  1  \n",
      "20                  1  \n",
      "28                  7  \n",
      "32                  1  \n"
     ]
    }
   ],
   "source": [
    "df = df.drop (df[df.ground_fatalities < 1 ].index)\n",
    "\n",
    "print(df)"
   ]
  }
 ],
 "metadata": {
  "kernelspec": {
   "display_name": "Python 3.10.8 64-bit (microsoft store)",
   "language": "python",
   "name": "python3"
  },
  "language_info": {
   "codemirror_mode": {
    "name": "ipython",
    "version": 3
   },
   "file_extension": ".py",
   "mimetype": "text/x-python",
   "name": "python",
   "nbconvert_exporter": "python",
   "pygments_lexer": "ipython3",
   "version": "3.10.8"
  },
  "orig_nbformat": 4,
  "vscode": {
   "interpreter": {
    "hash": "720b97c0b936e41686638dd7ae842e840c73f1edf12da0066b8915b0561a8c57"
   }
  }
 },
 "nbformat": 4,
 "nbformat_minor": 2
}
